{
  "nbformat": 4,
  "nbformat_minor": 0,
  "metadata": {
    "colab": {
      "provenance": []
    },
    "kernelspec": {
      "name": "python3",
      "display_name": "Python 3"
    },
    "language_info": {
      "name": "python"
    }
  },
  "cells": [
    {
      "cell_type": "markdown",
      "source": [
        "The late_shipments dataset contains supply chain data on the delivery of medical supplies. Each row represents one delivery of a part. The late columns denotes whether or not the part was delivered late. A value of \"Yes\" means that the part was delivered late, and a value of \"No\" means the part was delivered on time."
      ],
      "metadata": {
        "id": "n7NFNPGSjgD6"
      }
    },
    {
      "cell_type": "markdown",
      "source": [
        "Point estimate (or sample statistic), is the proportion of late shipments.\n",
        "\n"
      ],
      "metadata": {
        "id": "ghxYTqir8AV8"
      }
    },
    {
      "cell_type": "markdown",
      "source": [
        "\n",
        "\n",
        "\n",
        "\n",
        "> We hypothesize that proportion of late shipments is 6%\n",
        "\n",
        "\n",
        "\n",
        "\n"
      ],
      "metadata": {
        "id": "07PsJR6UBKFD"
      }
    },
    {
      "cell_type": "code",
      "execution_count": null,
      "metadata": {
        "id": "i8ubaWRQh3NP"
      },
      "outputs": [],
      "source": [
        "import pandas as pd\n",
        "\n",
        "\n",
        "# Load the Feather file\n",
        "# feather_file_path = 'path/to/your/feather/file.feather'\n",
        "df = pd.read_feather('late_shipments.feather')\n",
        "\n",
        "# Save as CSV file\n",
        "df.to_csv('late_shipments.csv', index=False)\n",
        "\n"
      ]
    },
    {
      "cell_type": "code",
      "source": [
        "import pandas as pd\n",
        "df1=pd.read_csv('late_shipments.csv')"
      ],
      "metadata": {
        "id": "IT0ZA4yakotU"
      },
      "execution_count": null,
      "outputs": []
    },
    {
      "cell_type": "code",
      "source": [
        "df1.head()"
      ],
      "metadata": {
        "colab": {
          "base_uri": "https://localhost:8080/",
          "height": 287
        },
        "id": "tIkj4FUHkueU",
        "outputId": "4f5f74ad-9b29-4f6e-84fc-2ff7223f3519"
      },
      "execution_count": null,
      "outputs": [
        {
          "output_type": "execute_result",
          "data": {
            "text/plain": [
              "        id       country managed_by  fulfill_via vendor_inco_term  \\\n",
              "0  36203.0       Nigeria   PMO - US  Direct Drop              EXW   \n",
              "1  30998.0      Botswana   PMO - US  Direct Drop              EXW   \n",
              "2  69871.0       Vietnam   PMO - US  Direct Drop              EXW   \n",
              "3  17648.0  South Africa   PMO - US  Direct Drop              DDP   \n",
              "4   5647.0        Uganda   PMO - US  Direct Drop              EXW   \n",
              "\n",
              "  shipment_mode  late_delivery late product_group    sub_classification  ...  \\\n",
              "0           Air            1.0  Yes          HRDT              HIV test  ...   \n",
              "1           Air            0.0   No          HRDT              HIV test  ...   \n",
              "2           Air            0.0   No           ARV                 Adult  ...   \n",
              "3         Ocean            0.0   No           ARV                 Adult  ...   \n",
              "4           Air            0.0   No          HRDT  HIV test - Ancillary  ...   \n",
              "\n",
              "  line_item_quantity line_item_value pack_price unit_price  \\\n",
              "0             2996.0       266644.00      89.00       0.89   \n",
              "1               25.0          800.00      32.00       1.60   \n",
              "2            22925.0       110040.00       4.80       0.08   \n",
              "3           152535.0       361507.95       2.37       0.04   \n",
              "4              850.0            8.50       0.01       0.00   \n",
              "\n",
              "             manufacturing_site first_line_designation  weight_kilograms  \\\n",
              "0       Alere Medical Co., Ltd.                    Yes            1426.0   \n",
              "1          Trinity Biotech, Plc                    Yes              10.0   \n",
              "2  Hetero Unit III Hyderabad IN                    Yes            3723.0   \n",
              "3     Aurobindo Unit III, India                    Yes            7698.0   \n",
              "4               Inverness Japan                    Yes              56.0   \n",
              "\n",
              "   freight_cost_usd  freight_cost_groups  line_item_insurance_usd  \n",
              "0          33279.83            expensive                   373.83  \n",
              "1            559.89           reasonable                     1.72  \n",
              "2          19056.13            expensive                   181.57  \n",
              "3          11372.23            expensive                   779.41  \n",
              "4            360.00           reasonable                     0.01  \n",
              "\n",
              "[5 rows x 27 columns]"
            ],
            "text/html": [
              "\n",
              "  <div id=\"df-0823c096-da37-462e-bf5b-e61d2319fad0\" class=\"colab-df-container\">\n",
              "    <div>\n",
              "<style scoped>\n",
              "    .dataframe tbody tr th:only-of-type {\n",
              "        vertical-align: middle;\n",
              "    }\n",
              "\n",
              "    .dataframe tbody tr th {\n",
              "        vertical-align: top;\n",
              "    }\n",
              "\n",
              "    .dataframe thead th {\n",
              "        text-align: right;\n",
              "    }\n",
              "</style>\n",
              "<table border=\"1\" class=\"dataframe\">\n",
              "  <thead>\n",
              "    <tr style=\"text-align: right;\">\n",
              "      <th></th>\n",
              "      <th>id</th>\n",
              "      <th>country</th>\n",
              "      <th>managed_by</th>\n",
              "      <th>fulfill_via</th>\n",
              "      <th>vendor_inco_term</th>\n",
              "      <th>shipment_mode</th>\n",
              "      <th>late_delivery</th>\n",
              "      <th>late</th>\n",
              "      <th>product_group</th>\n",
              "      <th>sub_classification</th>\n",
              "      <th>...</th>\n",
              "      <th>line_item_quantity</th>\n",
              "      <th>line_item_value</th>\n",
              "      <th>pack_price</th>\n",
              "      <th>unit_price</th>\n",
              "      <th>manufacturing_site</th>\n",
              "      <th>first_line_designation</th>\n",
              "      <th>weight_kilograms</th>\n",
              "      <th>freight_cost_usd</th>\n",
              "      <th>freight_cost_groups</th>\n",
              "      <th>line_item_insurance_usd</th>\n",
              "    </tr>\n",
              "  </thead>\n",
              "  <tbody>\n",
              "    <tr>\n",
              "      <th>0</th>\n",
              "      <td>36203.0</td>\n",
              "      <td>Nigeria</td>\n",
              "      <td>PMO - US</td>\n",
              "      <td>Direct Drop</td>\n",
              "      <td>EXW</td>\n",
              "      <td>Air</td>\n",
              "      <td>1.0</td>\n",
              "      <td>Yes</td>\n",
              "      <td>HRDT</td>\n",
              "      <td>HIV test</td>\n",
              "      <td>...</td>\n",
              "      <td>2996.0</td>\n",
              "      <td>266644.00</td>\n",
              "      <td>89.00</td>\n",
              "      <td>0.89</td>\n",
              "      <td>Alere Medical Co., Ltd.</td>\n",
              "      <td>Yes</td>\n",
              "      <td>1426.0</td>\n",
              "      <td>33279.83</td>\n",
              "      <td>expensive</td>\n",
              "      <td>373.83</td>\n",
              "    </tr>\n",
              "    <tr>\n",
              "      <th>1</th>\n",
              "      <td>30998.0</td>\n",
              "      <td>Botswana</td>\n",
              "      <td>PMO - US</td>\n",
              "      <td>Direct Drop</td>\n",
              "      <td>EXW</td>\n",
              "      <td>Air</td>\n",
              "      <td>0.0</td>\n",
              "      <td>No</td>\n",
              "      <td>HRDT</td>\n",
              "      <td>HIV test</td>\n",
              "      <td>...</td>\n",
              "      <td>25.0</td>\n",
              "      <td>800.00</td>\n",
              "      <td>32.00</td>\n",
              "      <td>1.60</td>\n",
              "      <td>Trinity Biotech, Plc</td>\n",
              "      <td>Yes</td>\n",
              "      <td>10.0</td>\n",
              "      <td>559.89</td>\n",
              "      <td>reasonable</td>\n",
              "      <td>1.72</td>\n",
              "    </tr>\n",
              "    <tr>\n",
              "      <th>2</th>\n",
              "      <td>69871.0</td>\n",
              "      <td>Vietnam</td>\n",
              "      <td>PMO - US</td>\n",
              "      <td>Direct Drop</td>\n",
              "      <td>EXW</td>\n",
              "      <td>Air</td>\n",
              "      <td>0.0</td>\n",
              "      <td>No</td>\n",
              "      <td>ARV</td>\n",
              "      <td>Adult</td>\n",
              "      <td>...</td>\n",
              "      <td>22925.0</td>\n",
              "      <td>110040.00</td>\n",
              "      <td>4.80</td>\n",
              "      <td>0.08</td>\n",
              "      <td>Hetero Unit III Hyderabad IN</td>\n",
              "      <td>Yes</td>\n",
              "      <td>3723.0</td>\n",
              "      <td>19056.13</td>\n",
              "      <td>expensive</td>\n",
              "      <td>181.57</td>\n",
              "    </tr>\n",
              "    <tr>\n",
              "      <th>3</th>\n",
              "      <td>17648.0</td>\n",
              "      <td>South Africa</td>\n",
              "      <td>PMO - US</td>\n",
              "      <td>Direct Drop</td>\n",
              "      <td>DDP</td>\n",
              "      <td>Ocean</td>\n",
              "      <td>0.0</td>\n",
              "      <td>No</td>\n",
              "      <td>ARV</td>\n",
              "      <td>Adult</td>\n",
              "      <td>...</td>\n",
              "      <td>152535.0</td>\n",
              "      <td>361507.95</td>\n",
              "      <td>2.37</td>\n",
              "      <td>0.04</td>\n",
              "      <td>Aurobindo Unit III, India</td>\n",
              "      <td>Yes</td>\n",
              "      <td>7698.0</td>\n",
              "      <td>11372.23</td>\n",
              "      <td>expensive</td>\n",
              "      <td>779.41</td>\n",
              "    </tr>\n",
              "    <tr>\n",
              "      <th>4</th>\n",
              "      <td>5647.0</td>\n",
              "      <td>Uganda</td>\n",
              "      <td>PMO - US</td>\n",
              "      <td>Direct Drop</td>\n",
              "      <td>EXW</td>\n",
              "      <td>Air</td>\n",
              "      <td>0.0</td>\n",
              "      <td>No</td>\n",
              "      <td>HRDT</td>\n",
              "      <td>HIV test - Ancillary</td>\n",
              "      <td>...</td>\n",
              "      <td>850.0</td>\n",
              "      <td>8.50</td>\n",
              "      <td>0.01</td>\n",
              "      <td>0.00</td>\n",
              "      <td>Inverness Japan</td>\n",
              "      <td>Yes</td>\n",
              "      <td>56.0</td>\n",
              "      <td>360.00</td>\n",
              "      <td>reasonable</td>\n",
              "      <td>0.01</td>\n",
              "    </tr>\n",
              "  </tbody>\n",
              "</table>\n",
              "<p>5 rows × 27 columns</p>\n",
              "</div>\n",
              "    <div class=\"colab-df-buttons\">\n",
              "\n",
              "  <div class=\"colab-df-container\">\n",
              "    <button class=\"colab-df-convert\" onclick=\"convertToInteractive('df-0823c096-da37-462e-bf5b-e61d2319fad0')\"\n",
              "            title=\"Convert this dataframe to an interactive table.\"\n",
              "            style=\"display:none;\">\n",
              "\n",
              "  <svg xmlns=\"http://www.w3.org/2000/svg\" height=\"24px\" viewBox=\"0 -960 960 960\">\n",
              "    <path d=\"M120-120v-720h720v720H120Zm60-500h600v-160H180v160Zm220 220h160v-160H400v160Zm0 220h160v-160H400v160ZM180-400h160v-160H180v160Zm440 0h160v-160H620v160ZM180-180h160v-160H180v160Zm440 0h160v-160H620v160Z\"/>\n",
              "  </svg>\n",
              "    </button>\n",
              "\n",
              "  <style>\n",
              "    .colab-df-container {\n",
              "      display:flex;\n",
              "      gap: 12px;\n",
              "    }\n",
              "\n",
              "    .colab-df-convert {\n",
              "      background-color: #E8F0FE;\n",
              "      border: none;\n",
              "      border-radius: 50%;\n",
              "      cursor: pointer;\n",
              "      display: none;\n",
              "      fill: #1967D2;\n",
              "      height: 32px;\n",
              "      padding: 0 0 0 0;\n",
              "      width: 32px;\n",
              "    }\n",
              "\n",
              "    .colab-df-convert:hover {\n",
              "      background-color: #E2EBFA;\n",
              "      box-shadow: 0px 1px 2px rgba(60, 64, 67, 0.3), 0px 1px 3px 1px rgba(60, 64, 67, 0.15);\n",
              "      fill: #174EA6;\n",
              "    }\n",
              "\n",
              "    .colab-df-buttons div {\n",
              "      margin-bottom: 4px;\n",
              "    }\n",
              "\n",
              "    [theme=dark] .colab-df-convert {\n",
              "      background-color: #3B4455;\n",
              "      fill: #D2E3FC;\n",
              "    }\n",
              "\n",
              "    [theme=dark] .colab-df-convert:hover {\n",
              "      background-color: #434B5C;\n",
              "      box-shadow: 0px 1px 3px 1px rgba(0, 0, 0, 0.15);\n",
              "      filter: drop-shadow(0px 1px 2px rgba(0, 0, 0, 0.3));\n",
              "      fill: #FFFFFF;\n",
              "    }\n",
              "  </style>\n",
              "\n",
              "    <script>\n",
              "      const buttonEl =\n",
              "        document.querySelector('#df-0823c096-da37-462e-bf5b-e61d2319fad0 button.colab-df-convert');\n",
              "      buttonEl.style.display =\n",
              "        google.colab.kernel.accessAllowed ? 'block' : 'none';\n",
              "\n",
              "      async function convertToInteractive(key) {\n",
              "        const element = document.querySelector('#df-0823c096-da37-462e-bf5b-e61d2319fad0');\n",
              "        const dataTable =\n",
              "          await google.colab.kernel.invokeFunction('convertToInteractive',\n",
              "                                                    [key], {});\n",
              "        if (!dataTable) return;\n",
              "\n",
              "        const docLinkHtml = 'Like what you see? Visit the ' +\n",
              "          '<a target=\"_blank\" href=https://colab.research.google.com/notebooks/data_table.ipynb>data table notebook</a>'\n",
              "          + ' to learn more about interactive tables.';\n",
              "        element.innerHTML = '';\n",
              "        dataTable['output_type'] = 'display_data';\n",
              "        await google.colab.output.renderOutput(dataTable, element);\n",
              "        const docLink = document.createElement('div');\n",
              "        docLink.innerHTML = docLinkHtml;\n",
              "        element.appendChild(docLink);\n",
              "      }\n",
              "    </script>\n",
              "  </div>\n",
              "\n",
              "\n",
              "<div id=\"df-fd2f6373-8f05-4da4-92c2-126d25558fe1\">\n",
              "  <button class=\"colab-df-quickchart\" onclick=\"quickchart('df-fd2f6373-8f05-4da4-92c2-126d25558fe1')\"\n",
              "            title=\"Suggest charts\"\n",
              "            style=\"display:none;\">\n",
              "\n",
              "<svg xmlns=\"http://www.w3.org/2000/svg\" height=\"24px\"viewBox=\"0 0 24 24\"\n",
              "     width=\"24px\">\n",
              "    <g>\n",
              "        <path d=\"M19 3H5c-1.1 0-2 .9-2 2v14c0 1.1.9 2 2 2h14c1.1 0 2-.9 2-2V5c0-1.1-.9-2-2-2zM9 17H7v-7h2v7zm4 0h-2V7h2v10zm4 0h-2v-4h2v4z\"/>\n",
              "    </g>\n",
              "</svg>\n",
              "  </button>\n",
              "\n",
              "<style>\n",
              "  .colab-df-quickchart {\n",
              "      --bg-color: #E8F0FE;\n",
              "      --fill-color: #1967D2;\n",
              "      --hover-bg-color: #E2EBFA;\n",
              "      --hover-fill-color: #174EA6;\n",
              "      --disabled-fill-color: #AAA;\n",
              "      --disabled-bg-color: #DDD;\n",
              "  }\n",
              "\n",
              "  [theme=dark] .colab-df-quickchart {\n",
              "      --bg-color: #3B4455;\n",
              "      --fill-color: #D2E3FC;\n",
              "      --hover-bg-color: #434B5C;\n",
              "      --hover-fill-color: #FFFFFF;\n",
              "      --disabled-bg-color: #3B4455;\n",
              "      --disabled-fill-color: #666;\n",
              "  }\n",
              "\n",
              "  .colab-df-quickchart {\n",
              "    background-color: var(--bg-color);\n",
              "    border: none;\n",
              "    border-radius: 50%;\n",
              "    cursor: pointer;\n",
              "    display: none;\n",
              "    fill: var(--fill-color);\n",
              "    height: 32px;\n",
              "    padding: 0;\n",
              "    width: 32px;\n",
              "  }\n",
              "\n",
              "  .colab-df-quickchart:hover {\n",
              "    background-color: var(--hover-bg-color);\n",
              "    box-shadow: 0 1px 2px rgba(60, 64, 67, 0.3), 0 1px 3px 1px rgba(60, 64, 67, 0.15);\n",
              "    fill: var(--button-hover-fill-color);\n",
              "  }\n",
              "\n",
              "  .colab-df-quickchart-complete:disabled,\n",
              "  .colab-df-quickchart-complete:disabled:hover {\n",
              "    background-color: var(--disabled-bg-color);\n",
              "    fill: var(--disabled-fill-color);\n",
              "    box-shadow: none;\n",
              "  }\n",
              "\n",
              "  .colab-df-spinner {\n",
              "    border: 2px solid var(--fill-color);\n",
              "    border-color: transparent;\n",
              "    border-bottom-color: var(--fill-color);\n",
              "    animation:\n",
              "      spin 1s steps(1) infinite;\n",
              "  }\n",
              "\n",
              "  @keyframes spin {\n",
              "    0% {\n",
              "      border-color: transparent;\n",
              "      border-bottom-color: var(--fill-color);\n",
              "      border-left-color: var(--fill-color);\n",
              "    }\n",
              "    20% {\n",
              "      border-color: transparent;\n",
              "      border-left-color: var(--fill-color);\n",
              "      border-top-color: var(--fill-color);\n",
              "    }\n",
              "    30% {\n",
              "      border-color: transparent;\n",
              "      border-left-color: var(--fill-color);\n",
              "      border-top-color: var(--fill-color);\n",
              "      border-right-color: var(--fill-color);\n",
              "    }\n",
              "    40% {\n",
              "      border-color: transparent;\n",
              "      border-right-color: var(--fill-color);\n",
              "      border-top-color: var(--fill-color);\n",
              "    }\n",
              "    60% {\n",
              "      border-color: transparent;\n",
              "      border-right-color: var(--fill-color);\n",
              "    }\n",
              "    80% {\n",
              "      border-color: transparent;\n",
              "      border-right-color: var(--fill-color);\n",
              "      border-bottom-color: var(--fill-color);\n",
              "    }\n",
              "    90% {\n",
              "      border-color: transparent;\n",
              "      border-bottom-color: var(--fill-color);\n",
              "    }\n",
              "  }\n",
              "</style>\n",
              "\n",
              "  <script>\n",
              "    async function quickchart(key) {\n",
              "      const quickchartButtonEl =\n",
              "        document.querySelector('#' + key + ' button');\n",
              "      quickchartButtonEl.disabled = true;  // To prevent multiple clicks.\n",
              "      quickchartButtonEl.classList.add('colab-df-spinner');\n",
              "      try {\n",
              "        const charts = await google.colab.kernel.invokeFunction(\n",
              "            'suggestCharts', [key], {});\n",
              "      } catch (error) {\n",
              "        console.error('Error during call to suggestCharts:', error);\n",
              "      }\n",
              "      quickchartButtonEl.classList.remove('colab-df-spinner');\n",
              "      quickchartButtonEl.classList.add('colab-df-quickchart-complete');\n",
              "    }\n",
              "    (() => {\n",
              "      let quickchartButtonEl =\n",
              "        document.querySelector('#df-fd2f6373-8f05-4da4-92c2-126d25558fe1 button');\n",
              "      quickchartButtonEl.style.display =\n",
              "        google.colab.kernel.accessAllowed ? 'block' : 'none';\n",
              "    })();\n",
              "  </script>\n",
              "</div>\n",
              "\n",
              "    </div>\n",
              "  </div>\n"
            ],
            "application/vnd.google.colaboratory.intrinsic+json": {
              "type": "dataframe",
              "variable_name": "df1"
            }
          },
          "metadata": {},
          "execution_count": 3
        }
      ]
    },
    {
      "cell_type": "code",
      "source": [
        "df1.shape"
      ],
      "metadata": {
        "colab": {
          "base_uri": "https://localhost:8080/"
        },
        "id": "1x4bwhVLlQi6",
        "outputId": "4db98b91-a343-4aa1-c54e-c017246f9a3e"
      },
      "execution_count": null,
      "outputs": [
        {
          "output_type": "execute_result",
          "data": {
            "text/plain": [
              "(1000, 27)"
            ]
          },
          "metadata": {},
          "execution_count": 4
        }
      ]
    },
    {
      "cell_type": "code",
      "source": [
        "df1.columns"
      ],
      "metadata": {
        "colab": {
          "base_uri": "https://localhost:8080/"
        },
        "id": "IgpajSi7lX5W",
        "outputId": "e0c41400-0af5-4586-eb52-5acca58babf6"
      },
      "execution_count": null,
      "outputs": [
        {
          "output_type": "execute_result",
          "data": {
            "text/plain": [
              "Index(['id', 'country', 'managed_by', 'fulfill_via', 'vendor_inco_term',\n",
              "       'shipment_mode', 'late_delivery', 'late', 'product_group',\n",
              "       'sub_classification', 'vendor', 'item_description',\n",
              "       'molecule_test_type', 'brand', 'dosage', 'dosage_form',\n",
              "       'unit_of_measure_per_pack', 'line_item_quantity', 'line_item_value',\n",
              "       'pack_price', 'unit_price', 'manufacturing_site',\n",
              "       'first_line_designation', 'weight_kilograms', 'freight_cost_usd',\n",
              "       'freight_cost_groups', 'line_item_insurance_usd'],\n",
              "      dtype='object')"
            ]
          },
          "metadata": {},
          "execution_count": 5
        }
      ]
    },
    {
      "cell_type": "code",
      "source": [
        "# proportion of shipments that are late where column late has Yes\n",
        "late_prop_samp = (df['late'] == 'Yes').mean()\n",
        "late_prop_samp"
      ],
      "metadata": {
        "colab": {
          "base_uri": "https://localhost:8080/"
        },
        "id": "EP_jITZO_wal",
        "outputId": "ce369dce-afa2-4122-ad16-190762411459"
      },
      "execution_count": null,
      "outputs": [
        {
          "output_type": "execute_result",
          "data": {
            "text/plain": [
              "0.061"
            ]
          },
          "metadata": {},
          "execution_count": 23
        }
      ]
    },
    {
      "cell_type": "code",
      "source": [
        "# The proportion of late shipments in the sample is 6.1%"
      ],
      "metadata": {
        "id": "2ksaHWEXAo7M"
      },
      "execution_count": null,
      "outputs": []
    },
    {
      "cell_type": "code",
      "source": [
        "# We do a bootstrap sampling or distribution for the late column\n",
        "# that is, we see in all of the 5000 iterations, what is the proportion of Yes\n",
        "# And how is Yes distributed and how many times Yes proportion is 6%\n"
      ],
      "metadata": {
        "id": "wW28C3gtEnsZ"
      },
      "execution_count": null,
      "outputs": []
    },
    {
      "cell_type": "code",
      "source": [
        "# bootstrap distribution\n",
        "import numpy as np\n",
        "late_shipments_boot_distn=[]\n",
        "for i in range(5000):\n",
        "    late_shipments_boot_distn.append(\n",
        "      np.mean(\n",
        "          df1.sample(frac=1,replace=True)['late']=='Yes'\n",
        "      )\n",
        "  )"
      ],
      "metadata": {
        "id": "NK8HM73PAuIv"
      },
      "execution_count": null,
      "outputs": []
    },
    {
      "cell_type": "code",
      "source": [
        "import matplotlib.pyplot as plt\n",
        "plt.hist(late_shipments_boot_distn,bins=50)\n",
        "plt.show()"
      ],
      "metadata": {
        "colab": {
          "base_uri": "https://localhost:8080/",
          "height": 430
        },
        "id": "WXcA9UbPCgwU",
        "outputId": "02191a2a-aec8-44c4-bf02-bf5c657872a1"
      },
      "execution_count": null,
      "outputs": [
        {
          "output_type": "display_data",
          "data": {
            "text/plain": [
              "<Figure size 640x480 with 1 Axes>"
            ],
            "image/png": "[encoded data removed]"
          },
          "metadata": {}
        }
      ]
    },
    {
      "cell_type": "code",
      "source": [
        "# Hypothesize that the proportion is 6%\n",
        "late_prop_hyp = 0.06"
      ],
      "metadata": {
        "id": "c5PwhAqFDe3i"
      },
      "execution_count": null,
      "outputs": []
    },
    {
      "cell_type": "code",
      "source": [
        "# Calculate the standard error\n",
        "std_error = np.std(late_shipments_boot_distn)\n"
      ],
      "metadata": {
        "id": "0s8ysRZmDgIw"
      },
      "execution_count": null,
      "outputs": []
    },
    {
      "cell_type": "code",
      "source": [
        "# z score tells us how much difference is there between sample statistic and expected value or hypotesized statistic"
      ],
      "metadata": {
        "id": "t6qZk4AfD0uw"
      },
      "execution_count": null,
      "outputs": []
    },
    {
      "cell_type": "markdown",
      "source": [
        "![image.png](data:image/png;base64,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)"
      ],
      "metadata": {
        "id": "LEdAihB05kT1"
      }
    },
    {
      "cell_type": "code",
      "source": [
        "# Find z-score of late_prop_samp\n",
        "z_score = (late_prop_samp-late_prop_hyp)/std_error\n",
        "\n",
        "# Print z_score\n",
        "print(z_score)"
      ],
      "metadata": {
        "colab": {
          "base_uri": "https://localhost:8080/"
        },
        "id": "IPEj4T0ODlJ3",
        "outputId": "13172ecf-9332-4b1d-c2c8-e38f7a3848fd"
      },
      "execution_count": null,
      "outputs": [
        {
          "output_type": "stream",
          "name": "stdout",
          "text": [
            "0.13098625581807016\n"
          ]
        }
      ]
    },
    {
      "cell_type": "code",
      "source": [
        "# We use right tailed test here because late_prop_hyp<late_prop_samp"
      ],
      "metadata": {
        "id": "f0Bog2pYW5Za"
      },
      "execution_count": null,
      "outputs": []
    },
    {
      "cell_type": "code",
      "source": [
        "# calculating p value\n",
        "from scipy.stats import norm\n",
        "p_value=1-norm.cdf(z_score,loc=0,scale=1)\n",
        "p_value"
      ],
      "metadata": {
        "colab": {
          "base_uri": "https://localhost:8080/"
        },
        "id": "iJKj5QHDXgNx",
        "outputId": "c0d703c0-b214-4c48-bba6-7efd835eb0a4"
      },
      "execution_count": null,
      "outputs": [
        {
          "output_type": "execute_result",
          "data": {
            "text/plain": [
              "0.4478930899958684"
            ]
          },
          "metadata": {},
          "execution_count": 33
        }
      ]
    },
    {
      "cell_type": "code",
      "source": [
        "# Set significance level (alpha) before hand\n",
        "alpha = 0.05"
      ],
      "metadata": {
        "id": "ukRhJEI_ZTe6"
      },
      "execution_count": null,
      "outputs": []
    },
    {
      "cell_type": "code",
      "source": [
        "# there is a lot of support for H0 based on p value but we need to find the significance level"
      ],
      "metadata": {
        "id": "fgQYkNJ1Yrca"
      },
      "execution_count": null,
      "outputs": []
    },
    {
      "cell_type": "code",
      "source": [
        "# if p<=alpha means we reject H0\n",
        "# otherwise we fail to reject H0\n"
      ],
      "metadata": {
        "id": "ET-ajsZBZDhy"
      },
      "execution_count": null,
      "outputs": []
    },
    {
      "cell_type": "code",
      "source": [
        "p_value<=alpha"
      ],
      "metadata": {
        "colab": {
          "base_uri": "https://localhost:8080/"
        },
        "id": "DATixyBKbw1e",
        "outputId": "be2060ed-2610-4ed4-f9b4-fd9faafe5c6b"
      },
      "execution_count": null,
      "outputs": [
        {
          "output_type": "execute_result",
          "data": {
            "text/plain": [
              "False"
            ]
          },
          "metadata": {},
          "execution_count": 35
        }
      ]
    },
    {
      "cell_type": "code",
      "source": [
        "# Therefore we fail to reject H0\n",
        "# The proportion of late shipments is avtually 6%"
      ],
      "metadata": {
        "id": "_VRLpxXmCSoD"
      },
      "execution_count": null,
      "outputs": []
    },
    {
      "cell_type": "code",
      "source": [
        "# We can also check this with 95% confidence interval\n",
        "\n",
        "lower=np.quantile(late_shipments_boot_distn,0.025)\n",
        "upper=np.quantile(late_shipments_boot_distn,0.975)\n",
        "print((lower,upper))"
      ],
      "metadata": {
        "colab": {
          "base_uri": "https://localhost:8080/"
        },
        "id": "yQUMENKcEZgr",
        "outputId": "5bc47297-3a51-4231-c197-98a1ded20bf5"
      },
      "execution_count": null,
      "outputs": [
        {
          "output_type": "stream",
          "name": "stdout",
          "text": [
            "(0.047, 0.076)\n"
          ]
        }
      ]
    },
    {
      "cell_type": "code",
      "source": [
        "# We see that 0.06 lies in the range of (0.047, 0.076) and this further confirms that H0 is true"
      ],
      "metadata": {
        "id": "Wf_InW6LEpp9"
      },
      "execution_count": null,
      "outputs": []
    },
    {
      "cell_type": "code",
      "source": [
        "# Why are 6% shipments late? Is weight associated to it?\n",
        "# Claim: weight more , shipment late. Weight less, shipment not late"
      ],
      "metadata": {
        "id": "RoROWH0qJSvA"
      },
      "execution_count": null,
      "outputs": []
    },
    {
      "cell_type": "code",
      "source": [
        "# H0: The mean weight of shipments that weren't late is the same as the mean weight of shipments that were late.\n",
        "\n",
        "# Ha: The mean weight of shipments that weren't late is less than the mean weight of shipments that were late."
      ],
      "metadata": {
        "id": "0E1MO8GvkJqS"
      },
      "execution_count": null,
      "outputs": []
    },
    {
      "cell_type": "code",
      "source": [],
      "metadata": {
        "id": "SmU1CPlukcBj"
      },
      "execution_count": null,
      "outputs": []
    },
    {
      "cell_type": "code",
      "source": [
        "xbar_sample_mean=df1.groupby('late')['weight_kilograms'].mean()\n",
        "xbar_sample_mean"
      ],
      "metadata": {
        "colab": {
          "base_uri": "https://localhost:8080/"
        },
        "id": "3HpAHC2sMrhs",
        "outputId": "f4b5d295-dc81-4498-a5bd-9e256db99d80"
      },
      "execution_count": null,
      "outputs": [
        {
          "output_type": "execute_result",
          "data": {
            "text/plain": [
              "late\n",
              "No     1897.791267\n",
              "Yes    2715.672131\n",
              "Name: weight_kilograms, dtype: float64"
            ]
          },
          "metadata": {},
          "execution_count": 5
        }
      ]
    },
    {
      "cell_type": "code",
      "source": [
        "s=df1.groupby('late')['weight_kilograms'].std()\n",
        "s\n",
        "# s is std dev"
      ],
      "metadata": {
        "colab": {
          "base_uri": "https://localhost:8080/"
        },
        "id": "KRUsMivvNrb8",
        "outputId": "80bd042b-fdfd-47ec-f6c1-bf4404920741"
      },
      "execution_count": null,
      "outputs": [
        {
          "output_type": "execute_result",
          "data": {
            "text/plain": [
              "late\n",
              "No     3154.039507\n",
              "Yes    2544.688211\n",
              "Name: weight_kilograms, dtype: float64"
            ]
          },
          "metadata": {},
          "execution_count": 6
        }
      ]
    },
    {
      "cell_type": "code",
      "source": [
        "n=df1.groupby('late')['weight_kilograms'].count()\n",
        "n"
      ],
      "metadata": {
        "colab": {
          "base_uri": "https://localhost:8080/"
        },
        "id": "KW4a9NxmNxqZ",
        "outputId": "0da8bf89-da63-4309-c04f-d10980e0f6fd"
      },
      "execution_count": null,
      "outputs": [
        {
          "output_type": "execute_result",
          "data": {
            "text/plain": [
              "late\n",
              "No     939\n",
              "Yes     61\n",
              "Name: weight_kilograms, dtype: int64"
            ]
          },
          "metadata": {},
          "execution_count": 7
        }
      ]
    },
    {
      "cell_type": "code",
      "source": [
        "import numpy as np\n",
        "numerator = xbar_sample_mean['Yes'] - xbar_sample_mean['No']\n",
        "denominator = np.sqrt(s['Yes'] ** 2 / n['Yes'] + s['No'] ** 2 / n['No'])\n",
        "t_stat = numerator / denominator\n",
        "t_stat"
      ],
      "metadata": {
        "colab": {
          "base_uri": "https://localhost:8080/"
        },
        "id": "Kz1KCQOnN2jG",
        "outputId": "d993fbf6-73c1-4fcf-fa2b-e3eaacf599f9"
      },
      "execution_count": null,
      "outputs": [
        {
          "output_type": "execute_result",
          "data": {
            "text/plain": [
              "2.3936661778766433"
            ]
          },
          "metadata": {},
          "execution_count": 8
        }
      ]
    },
    {
      "cell_type": "code",
      "source": [
        "degrees_of_freedom= n['Yes'] + n['No'] - 2\n",
        "degrees_of_freedom"
      ],
      "metadata": {
        "colab": {
          "base_uri": "https://localhost:8080/"
        },
        "id": "G8OVwUWkjfPk",
        "outputId": "83e64580-e974-4fdc-ad2b-a554288c3fff"
      },
      "execution_count": null,
      "outputs": [
        {
          "output_type": "execute_result",
          "data": {
            "text/plain": [
              "998"
            ]
          },
          "metadata": {},
          "execution_count": 10
        }
      ]
    },
    {
      "cell_type": "code",
      "source": [
        "from scipy.stats import t\n",
        "p_val=1-t.cdf(t_stat, df=degrees_of_freedom)\n",
        "p_val"
      ],
      "metadata": {
        "colab": {
          "base_uri": "https://localhost:8080/"
        },
        "id": "ZiMkmHuKj-x8",
        "outputId": "a51e7c0f-fb31-4e42-8c44-ef293a9c79f7"
      },
      "execution_count": null,
      "outputs": [
        {
          "output_type": "execute_result",
          "data": {
            "text/plain": [
              "0.008432382146249529"
            ]
          },
          "metadata": {},
          "execution_count": 13
        }
      ]
    },
    {
      "cell_type": "code",
      "source": [
        "# p_val<=0.05 so we reject null hypothesis, the heavier shipments were actually late"
      ],
      "metadata": {
        "id": "7iLPAqF6lRRJ"
      },
      "execution_count": null,
      "outputs": []
    }
  ]
}